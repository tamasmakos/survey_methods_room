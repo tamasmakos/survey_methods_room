{
 "cells": [
  {
   "cell_type": "code",
   "execution_count": 1,
   "metadata": {},
   "outputs": [],
   "source": [
    "import pandas as pd\n",
    "train = pd.read_csv('train.csv')"
   ]
  },
  {
   "cell_type": "code",
   "execution_count": 5,
   "metadata": {},
   "outputs": [],
   "source": [
    "# Removing all NaN values\n",
    "train = train.dropna()"
   ]
  },
  {
   "cell_type": "code",
   "execution_count": 7,
   "metadata": {},
   "outputs": [
    {
     "name": "stdout",
     "output_type": "stream",
     "text": [
      "RMSE: 0.7091691907045276\n"
     ]
    }
   ],
   "source": [
    "# RandomForestRegressor\n",
    "from sklearn.ensemble import RandomForestRegressor\n",
    "from sklearn.metrics import mean_squared_error\n",
    "from sklearn.model_selection import train_test_split\n",
    "from sklearn.model_selection import cross_val_score\n",
    "\n",
    "# Split data into train and test sets\n",
    "train_X = train.drop(['target'], axis=1)\n",
    "train_y = train['target']\n",
    "\n",
    "# Model\n",
    "rf = RandomForestRegressor(n_estimators=13, random_state=42, max_features=0.7794951619879549, max_leaf_nodes=33, n_jobs=-1)\n",
    "\n",
    "# Fit\n",
    "rf.fit(train_X, train_y)\n",
    "\n",
    "# Predict\n",
    "preds = rf.predict(train_X)\n",
    "\n",
    "# Score\n",
    "score = mean_squared_error(train_y, preds, squared=False)\n",
    "print(f'RMSE: {score}')\n",
    "\n"
   ]
  }
 ],
 "metadata": {
  "kernelspec": {
   "display_name": "Python 3",
   "language": "python",
   "name": "python3"
  },
  "language_info": {
   "codemirror_mode": {
    "name": "ipython",
    "version": 3
   },
   "file_extension": ".py",
   "mimetype": "text/x-python",
   "name": "python",
   "nbconvert_exporter": "python",
   "pygments_lexer": "ipython3",
   "version": "3.11.3"
  },
  "orig_nbformat": 4
 },
 "nbformat": 4,
 "nbformat_minor": 2
}
