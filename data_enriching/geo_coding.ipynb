{
 "cells": [
  {
   "cell_type": "code",
   "execution_count": 79,
   "metadata": {},
   "outputs": [],
   "source": [
    "import pandas as pd\n",
    "import warnings\n",
    "warnings.filterwarnings('ignore')"
   ]
  },
  {
   "cell_type": "code",
   "execution_count": 80,
   "metadata": {},
   "outputs": [],
   "source": [
    "address = pd.read_csv('address.csv', sep=',')"
   ]
  },
  {
   "cell_type": "code",
   "execution_count": 81,
   "metadata": {},
   "outputs": [
    {
     "data": {
      "text/html": [
       "<div>\n",
       "<style scoped>\n",
       "    .dataframe tbody tr th:only-of-type {\n",
       "        vertical-align: middle;\n",
       "    }\n",
       "\n",
       "    .dataframe tbody tr th {\n",
       "        vertical-align: top;\n",
       "    }\n",
       "\n",
       "    .dataframe thead th {\n",
       "        text-align: right;\n",
       "    }\n",
       "</style>\n",
       "<table border=\"1\" class=\"dataframe\">\n",
       "  <thead>\n",
       "    <tr style=\"text-align: right;\">\n",
       "      <th></th>\n",
       "      <th>id</th>\n",
       "      <th>town_ksh_code</th>\n",
       "      <th>province_name</th>\n",
       "      <th>town_name</th>\n",
       "      <th>town_type1</th>\n",
       "      <th>town_type2</th>\n",
       "      <th>town_type3</th>\n",
       "      <th>district_ksh_code</th>\n",
       "      <th>town_population</th>\n",
       "      <th>street_name</th>\n",
       "      <th>house_number</th>\n",
       "      <th>target</th>\n",
       "    </tr>\n",
       "  </thead>\n",
       "  <tbody>\n",
       "    <tr>\n",
       "      <th>0</th>\n",
       "      <td>1</td>\n",
       "      <td>27872</td>\n",
       "      <td>13</td>\n",
       "      <td>Abony</td>\n",
       "      <td>3</td>\n",
       "      <td>2</td>\n",
       "      <td>3</td>\n",
       "      <td>124</td>\n",
       "      <td>14916</td>\n",
       "      <td>ATTILA UTCA</td>\n",
       "      <td>27</td>\n",
       "      <td>0</td>\n",
       "    </tr>\n",
       "    <tr>\n",
       "      <th>1</th>\n",
       "      <td>2</td>\n",
       "      <td>27872</td>\n",
       "      <td>13</td>\n",
       "      <td>Abony</td>\n",
       "      <td>3</td>\n",
       "      <td>2</td>\n",
       "      <td>3</td>\n",
       "      <td>124</td>\n",
       "      <td>14916</td>\n",
       "      <td>BICSKEI ÚT</td>\n",
       "      <td>4</td>\n",
       "      <td>1</td>\n",
       "    </tr>\n",
       "    <tr>\n",
       "      <th>2</th>\n",
       "      <td>3</td>\n",
       "      <td>27872</td>\n",
       "      <td>13</td>\n",
       "      <td>Abony</td>\n",
       "      <td>3</td>\n",
       "      <td>2</td>\n",
       "      <td>3</td>\n",
       "      <td>124</td>\n",
       "      <td>14916</td>\n",
       "      <td>CSIKY GERGELY UTCA</td>\n",
       "      <td>20</td>\n",
       "      <td>1</td>\n",
       "    </tr>\n",
       "    <tr>\n",
       "      <th>3</th>\n",
       "      <td>4</td>\n",
       "      <td>27872</td>\n",
       "      <td>13</td>\n",
       "      <td>Abony</td>\n",
       "      <td>3</td>\n",
       "      <td>2</td>\n",
       "      <td>3</td>\n",
       "      <td>124</td>\n",
       "      <td>14916</td>\n",
       "      <td>DR. HIRN MÁRTON UTCA</td>\n",
       "      <td>3</td>\n",
       "      <td>2</td>\n",
       "    </tr>\n",
       "    <tr>\n",
       "      <th>4</th>\n",
       "      <td>5</td>\n",
       "      <td>27872</td>\n",
       "      <td>13</td>\n",
       "      <td>Abony</td>\n",
       "      <td>3</td>\n",
       "      <td>2</td>\n",
       "      <td>3</td>\n",
       "      <td>124</td>\n",
       "      <td>14916</td>\n",
       "      <td>VASÚT ÚT</td>\n",
       "      <td>41</td>\n",
       "      <td>1</td>\n",
       "    </tr>\n",
       "  </tbody>\n",
       "</table>\n",
       "</div>"
      ],
      "text/plain": [
       "   id  town_ksh_code  province_name town_name  town_type1  town_type2  \\\n",
       "0   1          27872             13     Abony           3           2   \n",
       "1   2          27872             13     Abony           3           2   \n",
       "2   3          27872             13     Abony           3           2   \n",
       "3   4          27872             13     Abony           3           2   \n",
       "4   5          27872             13     Abony           3           2   \n",
       "\n",
       "   town_type3  district_ksh_code  town_population           street_name  \\\n",
       "0           3                124            14916           ATTILA UTCA   \n",
       "1           3                124            14916            BICSKEI ÚT   \n",
       "2           3                124            14916    CSIKY GERGELY UTCA   \n",
       "3           3                124            14916  DR. HIRN MÁRTON UTCA   \n",
       "4           3                124            14916              VASÚT ÚT   \n",
       "\n",
       "  house_number  target  \n",
       "0           27       0  \n",
       "1            4       1  \n",
       "2           20       1  \n",
       "3            3       2  \n",
       "4           41       1  "
      ]
     },
     "execution_count": 81,
     "metadata": {},
     "output_type": "execute_result"
    }
   ],
   "source": [
    "address.head()"
   ]
  },
  {
   "cell_type": "code",
   "execution_count": 82,
   "metadata": {},
   "outputs": [],
   "source": [
    "# Lowercase all the addresses\n",
    "address['street_name'] = address['street_name'].str.lower()"
   ]
  },
  {
   "cell_type": "code",
   "execution_count": null,
   "metadata": {},
   "outputs": [],
   "source": [
    "address['address'] = address['street_name'] + ' ' + address['house_number'].astype(str) + ', ' + address['town_name']"
   ]
  },
  {
   "cell_type": "code",
   "execution_count": null,
   "metadata": {},
   "outputs": [],
   "source": [
    "# Requesting geocoding with ArcGIS API\n",
    "def geocode(address):\n",
    "    url = 'https://geocode.arcgis.com/arcgis/rest/services/World/GeocodeServer/findAddressCandidates'\n",
    "    params = {'f': 'json', 'singleLine': address, 'outFields': 'Match_addr,Addr_type'}\n",
    "    r = requests.get(url, params=params)\n",
    "    if r.json()['candidates']:\n",
    "        return r.json()['candidates'][0]['location']\n",
    "    else:\n",
    "        return None"
   ]
  },
  {
   "cell_type": "code",
   "execution_count": null,
   "metadata": {},
   "outputs": [],
   "source": [
    "address['lon'] = address['address'].apply(geocode).apply(lambda x: x['x'] if x else None)"
   ]
  },
  {
   "cell_type": "code",
   "execution_count": 93,
   "metadata": {},
   "outputs": [
    {
     "data": {
      "text/plain": [
       "0"
      ]
     },
     "execution_count": 93,
     "metadata": {},
     "output_type": "execute_result"
    }
   ],
   "source": [
    "# Checking how many addresses were geocoded\n",
    "address['lon'].isnull().sum()"
   ]
  },
  {
   "cell_type": "code",
   "execution_count": 94,
   "metadata": {},
   "outputs": [],
   "source": [
    "address['lat'] = address['address'].apply(geocode).apply(lambda x: x['y'] if x else None)"
   ]
  },
  {
   "cell_type": "code",
   "execution_count": 95,
   "metadata": {},
   "outputs": [
    {
     "data": {
      "text/plain": [
       "0"
      ]
     },
     "execution_count": 95,
     "metadata": {},
     "output_type": "execute_result"
    }
   ],
   "source": [
    "# Checking how many addresses were geocoded\n",
    "address['lat'].isnull().sum()"
   ]
  },
  {
   "cell_type": "code",
   "execution_count": 96,
   "metadata": {},
   "outputs": [],
   "source": [
    "# Saving the data\n",
    "address.to_csv('address_geocoded.csv', index=False)"
   ]
  }
 ],
 "metadata": {
  "kernelspec": {
   "display_name": "Python 3",
   "language": "python",
   "name": "python3"
  },
  "language_info": {
   "codemirror_mode": {
    "name": "ipython",
    "version": 3
   },
   "file_extension": ".py",
   "mimetype": "text/x-python",
   "name": "python",
   "nbconvert_exporter": "python",
   "pygments_lexer": "ipython3",
   "version": "3.11.2"
  },
  "orig_nbformat": 4
 },
 "nbformat": 4,
 "nbformat_minor": 2
}
